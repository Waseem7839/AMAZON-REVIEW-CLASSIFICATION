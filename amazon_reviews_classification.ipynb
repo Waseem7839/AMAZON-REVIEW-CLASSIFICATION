{
  "metadata": {
    "kernelspec": {
      "language": "python",
      "display_name": "Python 3",
      "name": "python3"
    },
    "language_info": {
      "name": "python",
      "version": "3.7.12",
      "mimetype": "text/x-python",
      "codemirror_mode": {
        "name": "ipython",
        "version": 3
      },
      "pygments_lexer": "ipython3",
      "nbconvert_exporter": "python",
      "file_extension": ".py"
    },
    "colab": {
      "provenance": []
    }
  },
  "nbformat_minor": 0,
  "nbformat": 4,
  "cells": [
    {
      "cell_type": "code",
      "source": [
        "import numpy as np # linear algebra\n",
        "import pandas as pd # data processing, CSV file I/O (e.g. pd.read_csv)\n",
        "import tensorflow as tf\n",
        "import re\n",
        "import string\n",
        "import os\n",
        "for dirname, _, filenames in os.walk('/kaggle/input'):\n",
        "    for filename in filenames:\n",
        "        print(os.path.join(dirname, filename))"
      ],
      "metadata": {
        "_uuid": "8f2839f25d086af736a60e9eeb907d3b93b6e0e5",
        "_cell_guid": "b1076dfc-b9ad-4769-8c92-a6c4dae69d19",
        "execution": {
          "iopub.status.busy": "2023-02-26T12:29:34.313309Z",
          "iopub.execute_input": "2023-02-26T12:29:34.314377Z",
          "iopub.status.idle": "2023-02-26T12:29:34.329845Z",
          "shell.execute_reply.started": "2023-02-26T12:29:34.314335Z",
          "shell.execute_reply": "2023-02-26T12:29:34.328752Z"
        },
        "trusted": true,
        "id": "T3yInOnDBGGS"
      },
      "execution_count": null,
      "outputs": []
    },
    {
      "cell_type": "code",
      "source": [
        "raw_dataset = pd.read_csv(\"/kaggle/input/amazon-reviews-dataset/cleaned_reviews.csv\")\n",
        "raw_dataset.drop(columns=['cleaned_review_length', 'review_score'], inplace=True)\n",
        "raw_dataset.head()"
      ],
      "metadata": {
        "execution": {
          "iopub.status.busy": "2023-02-26T12:31:24.251823Z",
          "iopub.execute_input": "2023-02-26T12:31:24.252781Z",
          "iopub.status.idle": "2023-02-26T12:31:24.308138Z",
          "shell.execute_reply.started": "2023-02-26T12:31:24.252719Z",
          "shell.execute_reply": "2023-02-26T12:31:24.306763Z"
        },
        "trusted": true,
        "id": "TkdL8o9SBGGV",
        "outputId": "40ecdc59-b843-4cfe-c6a4-bed9353f9fc8"
      },
      "execution_count": null,
      "outputs": [
        {
          "execution_count": 17,
          "output_type": "execute_result",
          "data": {
            "text/plain": "  sentiments                                     cleaned_review\n0   positive  i wish would have gotten one earlier love it a...\n1    neutral  i ve learned this lesson again open the packag...\n2    neutral          it is so slow and lags find better option\n3    neutral  roller ball stopped working within months of m...\n4    neutral  i like the color and size but it few days out ...",
            "text/html": "<div>\n<style scoped>\n    .dataframe tbody tr th:only-of-type {\n        vertical-align: middle;\n    }\n\n    .dataframe tbody tr th {\n        vertical-align: top;\n    }\n\n    .dataframe thead th {\n        text-align: right;\n    }\n</style>\n<table border=\"1\" class=\"dataframe\">\n  <thead>\n    <tr style=\"text-align: right;\">\n      <th></th>\n      <th>sentiments</th>\n      <th>cleaned_review</th>\n    </tr>\n  </thead>\n  <tbody>\n    <tr>\n      <th>0</th>\n      <td>positive</td>\n      <td>i wish would have gotten one earlier love it a...</td>\n    </tr>\n    <tr>\n      <th>1</th>\n      <td>neutral</td>\n      <td>i ve learned this lesson again open the packag...</td>\n    </tr>\n    <tr>\n      <th>2</th>\n      <td>neutral</td>\n      <td>it is so slow and lags find better option</td>\n    </tr>\n    <tr>\n      <th>3</th>\n      <td>neutral</td>\n      <td>roller ball stopped working within months of m...</td>\n    </tr>\n    <tr>\n      <th>4</th>\n      <td>neutral</td>\n      <td>i like the color and size but it few days out ...</td>\n    </tr>\n  </tbody>\n</table>\n</div>"
          },
          "metadata": {}
        }
      ]
    },
    {
      "cell_type": "markdown",
      "source": [
        "# Preprocessing raw dataset"
      ],
      "metadata": {
        "id": "LnXGJgtDBGGV"
      }
    },
    {
      "cell_type": "code",
      "source": [
        "raw_dataset['labels'] = [class_names.index(sentiment) for sentiment in list(sentiments)]"
      ],
      "metadata": {
        "execution": {
          "iopub.status.busy": "2023-02-26T12:40:36.584115Z",
          "iopub.execute_input": "2023-02-26T12:40:36.584685Z",
          "iopub.status.idle": "2023-02-26T12:40:36.603571Z",
          "shell.execute_reply.started": "2023-02-26T12:40:36.584630Z",
          "shell.execute_reply": "2023-02-26T12:40:36.602508Z"
        },
        "trusted": true,
        "id": "_P6w9ZZLBGGV"
      },
      "execution_count": null,
      "outputs": []
    },
    {
      "cell_type": "code",
      "source": [
        "raw_dataset.head()"
      ],
      "metadata": {
        "execution": {
          "iopub.status.busy": "2023-02-26T12:41:42.399510Z",
          "iopub.execute_input": "2023-02-26T12:41:42.400239Z",
          "iopub.status.idle": "2023-02-26T12:41:42.410864Z",
          "shell.execute_reply.started": "2023-02-26T12:41:42.400183Z",
          "shell.execute_reply": "2023-02-26T12:41:42.409722Z"
        },
        "trusted": true,
        "id": "DuALaYp4BGGW",
        "outputId": "675d3d92-cf7f-49a6-da5b-c862a988b138"
      },
      "execution_count": null,
      "outputs": [
        {
          "execution_count": 31,
          "output_type": "execute_result",
          "data": {
            "text/plain": "  sentiments                                     cleaned_review  labels\n0   positive  i wish would have gotten one earlier love it a...       0\n1    neutral  i ve learned this lesson again open the packag...       1\n2    neutral          it is so slow and lags find better option       1\n3    neutral  roller ball stopped working within months of m...       1\n4    neutral  i like the color and size but it few days out ...       1",
            "text/html": "<div>\n<style scoped>\n    .dataframe tbody tr th:only-of-type {\n        vertical-align: middle;\n    }\n\n    .dataframe tbody tr th {\n        vertical-align: top;\n    }\n\n    .dataframe thead th {\n        text-align: right;\n    }\n</style>\n<table border=\"1\" class=\"dataframe\">\n  <thead>\n    <tr style=\"text-align: right;\">\n      <th></th>\n      <th>sentiments</th>\n      <th>cleaned_review</th>\n      <th>labels</th>\n    </tr>\n  </thead>\n  <tbody>\n    <tr>\n      <th>0</th>\n      <td>positive</td>\n      <td>i wish would have gotten one earlier love it a...</td>\n      <td>0</td>\n    </tr>\n    <tr>\n      <th>1</th>\n      <td>neutral</td>\n      <td>i ve learned this lesson again open the packag...</td>\n      <td>1</td>\n    </tr>\n    <tr>\n      <th>2</th>\n      <td>neutral</td>\n      <td>it is so slow and lags find better option</td>\n      <td>1</td>\n    </tr>\n    <tr>\n      <th>3</th>\n      <td>neutral</td>\n      <td>roller ball stopped working within months of m...</td>\n      <td>1</td>\n    </tr>\n    <tr>\n      <th>4</th>\n      <td>neutral</td>\n      <td>i like the color and size but it few days out ...</td>\n      <td>1</td>\n    </tr>\n  </tbody>\n</table>\n</div>"
          },
          "metadata": {}
        }
      ]
    },
    {
      "cell_type": "code",
      "source": [
        "dataset = raw_dataset.drop(columns=['sentiments'])\n",
        "dataset.head()"
      ],
      "metadata": {
        "execution": {
          "iopub.status.busy": "2023-02-26T12:41:46.424294Z",
          "iopub.execute_input": "2023-02-26T12:41:46.424745Z",
          "iopub.status.idle": "2023-02-26T12:41:46.436059Z",
          "shell.execute_reply.started": "2023-02-26T12:41:46.424708Z",
          "shell.execute_reply": "2023-02-26T12:41:46.435288Z"
        },
        "trusted": true,
        "id": "2K5mZx9tBGGW",
        "outputId": "2213f47c-b15d-4306-b8ac-0d82332de50e"
      },
      "execution_count": null,
      "outputs": [
        {
          "execution_count": 32,
          "output_type": "execute_result",
          "data": {
            "text/plain": "                                      cleaned_review  labels\n0  i wish would have gotten one earlier love it a...       0\n1  i ve learned this lesson again open the packag...       1\n2          it is so slow and lags find better option       1\n3  roller ball stopped working within months of m...       1\n4  i like the color and size but it few days out ...       1",
            "text/html": "<div>\n<style scoped>\n    .dataframe tbody tr th:only-of-type {\n        vertical-align: middle;\n    }\n\n    .dataframe tbody tr th {\n        vertical-align: top;\n    }\n\n    .dataframe thead th {\n        text-align: right;\n    }\n</style>\n<table border=\"1\" class=\"dataframe\">\n  <thead>\n    <tr style=\"text-align: right;\">\n      <th></th>\n      <th>cleaned_review</th>\n      <th>labels</th>\n    </tr>\n  </thead>\n  <tbody>\n    <tr>\n      <th>0</th>\n      <td>i wish would have gotten one earlier love it a...</td>\n      <td>0</td>\n    </tr>\n    <tr>\n      <th>1</th>\n      <td>i ve learned this lesson again open the packag...</td>\n      <td>1</td>\n    </tr>\n    <tr>\n      <th>2</th>\n      <td>it is so slow and lags find better option</td>\n      <td>1</td>\n    </tr>\n    <tr>\n      <th>3</th>\n      <td>roller ball stopped working within months of m...</td>\n      <td>1</td>\n    </tr>\n    <tr>\n      <th>4</th>\n      <td>i like the color and size but it few days out ...</td>\n      <td>1</td>\n    </tr>\n  </tbody>\n</table>\n</div>"
          },
          "metadata": {}
        }
      ]
    },
    {
      "cell_type": "code",
      "source": [
        "dataset.shape"
      ],
      "metadata": {
        "execution": {
          "iopub.status.busy": "2023-02-26T12:42:28.728505Z",
          "iopub.execute_input": "2023-02-26T12:42:28.729285Z",
          "iopub.status.idle": "2023-02-26T12:42:28.736714Z",
          "shell.execute_reply.started": "2023-02-26T12:42:28.729238Z",
          "shell.execute_reply": "2023-02-26T12:42:28.735472Z"
        },
        "trusted": true,
        "id": "95GAookNBGGW",
        "outputId": "59769c0a-acfd-4926-9435-38ba174e9d2a"
      },
      "execution_count": null,
      "outputs": [
        {
          "execution_count": 33,
          "output_type": "execute_result",
          "data": {
            "text/plain": "(17340, 2)"
          },
          "metadata": {}
        }
      ]
    },
    {
      "cell_type": "code",
      "source": [
        "train, val, test = np.split(dataset.sample(frac=1), [int(0.8 * len(dataset)), int(0.9 * len(dataset))])"
      ],
      "metadata": {
        "execution": {
          "iopub.status.busy": "2023-02-26T13:39:06.308662Z",
          "iopub.execute_input": "2023-02-26T13:39:06.309116Z",
          "iopub.status.idle": "2023-02-26T13:39:06.318510Z",
          "shell.execute_reply.started": "2023-02-26T13:39:06.309075Z",
          "shell.execute_reply": "2023-02-26T13:39:06.317418Z"
        },
        "trusted": true,
        "id": "aUny5I8NBGGW"
      },
      "execution_count": null,
      "outputs": []
    },
    {
      "cell_type": "code",
      "source": [
        "train.head()"
      ],
      "metadata": {
        "execution": {
          "iopub.status.busy": "2023-02-26T13:39:06.534362Z",
          "iopub.execute_input": "2023-02-26T13:39:06.535370Z",
          "iopub.status.idle": "2023-02-26T13:39:06.545789Z",
          "shell.execute_reply.started": "2023-02-26T13:39:06.535329Z",
          "shell.execute_reply": "2023-02-26T13:39:06.544757Z"
        },
        "trusted": true,
        "id": "bZeYKbBvBGGX",
        "outputId": "2580b00f-77b0-47e2-b826-743022f5b7f9"
      },
      "execution_count": null,
      "outputs": [
        {
          "execution_count": 85,
          "output_type": "execute_result",
          "data": {
            "text/plain": "                                          cleaned_review  labels\n5138   the perfect cute little mouse update had this ...       0\n69     received product on the th charged it and star...       0\n9064   i don game so did not find it fair to give it ...       0\n3908   the rose gold color is very pretty and the col...       1\n16337  just what was looking for to use at work great...       0",
            "text/html": "<div>\n<style scoped>\n    .dataframe tbody tr th:only-of-type {\n        vertical-align: middle;\n    }\n\n    .dataframe tbody tr th {\n        vertical-align: top;\n    }\n\n    .dataframe thead th {\n        text-align: right;\n    }\n</style>\n<table border=\"1\" class=\"dataframe\">\n  <thead>\n    <tr style=\"text-align: right;\">\n      <th></th>\n      <th>cleaned_review</th>\n      <th>labels</th>\n    </tr>\n  </thead>\n  <tbody>\n    <tr>\n      <th>5138</th>\n      <td>the perfect cute little mouse update had this ...</td>\n      <td>0</td>\n    </tr>\n    <tr>\n      <th>69</th>\n      <td>received product on the th charged it and star...</td>\n      <td>0</td>\n    </tr>\n    <tr>\n      <th>9064</th>\n      <td>i don game so did not find it fair to give it ...</td>\n      <td>0</td>\n    </tr>\n    <tr>\n      <th>3908</th>\n      <td>the rose gold color is very pretty and the col...</td>\n      <td>1</td>\n    </tr>\n    <tr>\n      <th>16337</th>\n      <td>just what was looking for to use at work great...</td>\n      <td>0</td>\n    </tr>\n  </tbody>\n</table>\n</div>"
          },
          "metadata": {}
        }
      ]
    },
    {
      "cell_type": "code",
      "source": [
        "val.head()"
      ],
      "metadata": {
        "execution": {
          "iopub.status.busy": "2023-02-26T13:39:07.127519Z",
          "iopub.execute_input": "2023-02-26T13:39:07.127876Z",
          "iopub.status.idle": "2023-02-26T13:39:07.137575Z",
          "shell.execute_reply.started": "2023-02-26T13:39:07.127843Z",
          "shell.execute_reply": "2023-02-26T13:39:07.136513Z"
        },
        "trusted": true,
        "id": "i3c-y0F4BGGX",
        "outputId": "c017ff95-e24e-4f03-f93e-79929ae008b1"
      },
      "execution_count": null,
      "outputs": [
        {
          "execution_count": 86,
          "output_type": "execute_result",
          "data": {
            "text/plain": "                                          cleaned_review  labels\n16665  the only reason gave it stars is jbl for some ...       1\n6359   like this new mouse it works well and installa...       0\n141    perfect little mouse this mouse is so easy to ...       0\n4423   the mouse wheel broke and just spins now used ...       1\n17164  best portable speaker ve owned out of purposel...       0",
            "text/html": "<div>\n<style scoped>\n    .dataframe tbody tr th:only-of-type {\n        vertical-align: middle;\n    }\n\n    .dataframe tbody tr th {\n        vertical-align: top;\n    }\n\n    .dataframe thead th {\n        text-align: right;\n    }\n</style>\n<table border=\"1\" class=\"dataframe\">\n  <thead>\n    <tr style=\"text-align: right;\">\n      <th></th>\n      <th>cleaned_review</th>\n      <th>labels</th>\n    </tr>\n  </thead>\n  <tbody>\n    <tr>\n      <th>16665</th>\n      <td>the only reason gave it stars is jbl for some ...</td>\n      <td>1</td>\n    </tr>\n    <tr>\n      <th>6359</th>\n      <td>like this new mouse it works well and installa...</td>\n      <td>0</td>\n    </tr>\n    <tr>\n      <th>141</th>\n      <td>perfect little mouse this mouse is so easy to ...</td>\n      <td>0</td>\n    </tr>\n    <tr>\n      <th>4423</th>\n      <td>the mouse wheel broke and just spins now used ...</td>\n      <td>1</td>\n    </tr>\n    <tr>\n      <th>17164</th>\n      <td>best portable speaker ve owned out of purposel...</td>\n      <td>0</td>\n    </tr>\n  </tbody>\n</table>\n</div>"
          },
          "metadata": {}
        }
      ]
    },
    {
      "cell_type": "code",
      "source": [
        "test.head()"
      ],
      "metadata": {
        "execution": {
          "iopub.status.busy": "2023-02-26T13:39:08.108298Z",
          "iopub.execute_input": "2023-02-26T13:39:08.109307Z",
          "iopub.status.idle": "2023-02-26T13:39:08.118903Z",
          "shell.execute_reply.started": "2023-02-26T13:39:08.109257Z",
          "shell.execute_reply": "2023-02-26T13:39:08.117825Z"
        },
        "trusted": true,
        "id": "_z_dMuvABGGX",
        "outputId": "ae383ac8-be5a-4317-d4b8-de695d8d8db8"
      },
      "execution_count": null,
      "outputs": [
        {
          "execution_count": 87,
          "output_type": "execute_result",
          "data": {
            "text/plain": "                                          cleaned_review  labels\n16923                     great product excellent sound        0\n5645   there was no usb adapter included so it essent...       2\n2818   i loved the changing colors and the ease of us...       0\n12645  sound is ok lights are cool mic isn very good ...       0\n1850        works great was gift for my mom she loves it       0",
            "text/html": "<div>\n<style scoped>\n    .dataframe tbody tr th:only-of-type {\n        vertical-align: middle;\n    }\n\n    .dataframe tbody tr th {\n        vertical-align: top;\n    }\n\n    .dataframe thead th {\n        text-align: right;\n    }\n</style>\n<table border=\"1\" class=\"dataframe\">\n  <thead>\n    <tr style=\"text-align: right;\">\n      <th></th>\n      <th>cleaned_review</th>\n      <th>labels</th>\n    </tr>\n  </thead>\n  <tbody>\n    <tr>\n      <th>16923</th>\n      <td>great product excellent sound</td>\n      <td>0</td>\n    </tr>\n    <tr>\n      <th>5645</th>\n      <td>there was no usb adapter included so it essent...</td>\n      <td>2</td>\n    </tr>\n    <tr>\n      <th>2818</th>\n      <td>i loved the changing colors and the ease of us...</td>\n      <td>0</td>\n    </tr>\n    <tr>\n      <th>12645</th>\n      <td>sound is ok lights are cool mic isn very good ...</td>\n      <td>0</td>\n    </tr>\n    <tr>\n      <th>1850</th>\n      <td>works great was gift for my mom she loves it</td>\n      <td>0</td>\n    </tr>\n  </tbody>\n</table>\n</div>"
          },
          "metadata": {}
        }
      ]
    },
    {
      "cell_type": "markdown",
      "source": [
        "# Convert Dataset"
      ],
      "metadata": {
        "id": "uNHEuR3WBGGX"
      }
    },
    {
      "cell_type": "code",
      "source": [
        "def df_to_dataset(dataframe, shuffle=True, batch_size=32):\n",
        "    text = list(dataframe['cleaned_review'])\n",
        "    labels = list(dataframe['labels'])\n",
        "    ds = tf.data.Dataset.from_tensor_slices((np.array(text), np.array(labels)))\n",
        "    if shuffle:\n",
        "        ds = ds.shuffle(buffer_size=len(dataframe))\n",
        "    ds = ds.batch(batch_size).prefetch(batch_size)\n",
        "    return ds\n",
        "    "
      ],
      "metadata": {
        "execution": {
          "iopub.status.busy": "2023-02-26T13:52:41.888361Z",
          "iopub.execute_input": "2023-02-26T13:52:41.888755Z",
          "iopub.status.idle": "2023-02-26T13:52:41.894261Z",
          "shell.execute_reply.started": "2023-02-26T13:52:41.888719Z",
          "shell.execute_reply": "2023-02-26T13:52:41.893161Z"
        },
        "trusted": true,
        "id": "l8sHAzbHBGGX"
      },
      "execution_count": null,
      "outputs": []
    },
    {
      "cell_type": "code",
      "source": [
        "raw_train_ds = df_to_dataset(train)\n",
        "raw_val_ds = df_to_dataset(val)\n",
        "raw_test_ds = df_to_dataset(test)"
      ],
      "metadata": {
        "execution": {
          "iopub.status.busy": "2023-02-26T14:00:02.479860Z",
          "iopub.execute_input": "2023-02-26T14:00:02.480226Z",
          "iopub.status.idle": "2023-02-26T14:00:02.685804Z",
          "shell.execute_reply.started": "2023-02-26T14:00:02.480190Z",
          "shell.execute_reply": "2023-02-26T14:00:02.684858Z"
        },
        "trusted": true,
        "id": "vQ_k-QS5BGGX"
      },
      "execution_count": null,
      "outputs": []
    },
    {
      "cell_type": "code",
      "source": [
        "[(train_texts, train_labels)] = raw_train_ds.take(1)"
      ],
      "metadata": {
        "execution": {
          "iopub.status.busy": "2023-02-26T14:00:03.143231Z",
          "iopub.execute_input": "2023-02-26T14:00:03.144237Z",
          "iopub.status.idle": "2023-02-26T14:00:03.176856Z",
          "shell.execute_reply.started": "2023-02-26T14:00:03.144186Z",
          "shell.execute_reply": "2023-02-26T14:00:03.176006Z"
        },
        "trusted": true,
        "id": "5ICWYnPDBGGY"
      },
      "execution_count": null,
      "outputs": []
    },
    {
      "cell_type": "code",
      "source": [
        "print(train_texts[0].numpy())\n",
        "print(\"=\"*100)\n",
        "print(class_names[train_labels[0].numpy()])"
      ],
      "metadata": {
        "execution": {
          "iopub.status.busy": "2023-02-26T14:00:04.542878Z",
          "iopub.execute_input": "2023-02-26T14:00:04.543581Z",
          "iopub.status.idle": "2023-02-26T14:00:04.550916Z",
          "shell.execute_reply.started": "2023-02-26T14:00:04.543514Z",
          "shell.execute_reply": "2023-02-26T14:00:04.549781Z"
        },
        "trusted": true,
        "id": "adZpW8v6BGGY",
        "outputId": "cadaae07-9781-40c6-afc6-51662d219611"
      },
      "execution_count": null,
      "outputs": [
        {
          "name": "stdout",
          "text": "b'good sound'\n====================================================================================================\nneutral\n",
          "output_type": "stream"
        }
      ]
    },
    {
      "cell_type": "markdown",
      "source": [
        "# Vectorize Text"
      ],
      "metadata": {
        "id": "lPW9RSDLBGGY"
      }
    },
    {
      "cell_type": "code",
      "source": [
        "def standardization(input_text):\n",
        "    text = tf.strings.lower(input_text)\n",
        "    text = tf.strings.regex_replace(text, '[%s]' % re.escape(string.punctuation), '')\n",
        "    return text"
      ],
      "metadata": {
        "execution": {
          "iopub.status.busy": "2023-02-26T14:08:50.116253Z",
          "iopub.execute_input": "2023-02-26T14:08:50.116680Z",
          "iopub.status.idle": "2023-02-26T14:08:50.122224Z",
          "shell.execute_reply.started": "2023-02-26T14:08:50.116637Z",
          "shell.execute_reply": "2023-02-26T14:08:50.121207Z"
        },
        "trusted": true,
        "id": "2v_gjx2UBGGY"
      },
      "execution_count": null,
      "outputs": []
    },
    {
      "cell_type": "code",
      "source": [
        "vocab_size = 10000\n",
        "sequence_length = 50\n",
        "vectorize_layer = tf.keras.layers.TextVectorization(\n",
        "    standardize=standardization,\n",
        "    max_tokens=vocab_size,\n",
        "    output_mode='int',\n",
        "    output_sequence_length=sequence_length\n",
        ")"
      ],
      "metadata": {
        "execution": {
          "iopub.status.busy": "2023-02-26T14:14:27.108483Z",
          "iopub.execute_input": "2023-02-26T14:14:27.109487Z",
          "iopub.status.idle": "2023-02-26T14:14:27.121074Z",
          "shell.execute_reply.started": "2023-02-26T14:14:27.109445Z",
          "shell.execute_reply": "2023-02-26T14:14:27.120094Z"
        },
        "trusted": true,
        "id": "-EZqP2GwBGGY"
      },
      "execution_count": null,
      "outputs": []
    },
    {
      "cell_type": "code",
      "source": [
        "train_texts = train_ds.map(lambda text, label: text)\n",
        "vectorize_layer.adapt(train_texts)"
      ],
      "metadata": {
        "execution": {
          "iopub.status.busy": "2023-02-26T14:14:30.165874Z",
          "iopub.execute_input": "2023-02-26T14:14:30.166244Z",
          "iopub.status.idle": "2023-02-26T14:14:30.710950Z",
          "shell.execute_reply.started": "2023-02-26T14:14:30.166214Z",
          "shell.execute_reply": "2023-02-26T14:14:30.710061Z"
        },
        "trusted": true,
        "id": "UhUsf0zxBGGY"
      },
      "execution_count": null,
      "outputs": []
    },
    {
      "cell_type": "code",
      "source": [
        "text_batch, label_batch = next(iter(raw_train_ds))\n",
        "first_text, first_label = text_batch[0], label_batch[0]\n",
        "print(\"Review\", first_text)\n",
        "print(\"=\"*120)\n",
        "print(\"Label\", first_label)\n",
        "print(\"=\"*120)\n",
        "print(\"Vectorized review\\n\", vectorize_layer(first_text))"
      ],
      "metadata": {
        "execution": {
          "iopub.status.busy": "2023-02-26T14:18:14.786836Z",
          "iopub.execute_input": "2023-02-26T14:18:14.787633Z",
          "iopub.status.idle": "2023-02-26T14:18:14.824242Z",
          "shell.execute_reply.started": "2023-02-26T14:18:14.787583Z",
          "shell.execute_reply": "2023-02-26T14:18:14.823150Z"
        },
        "trusted": true,
        "id": "4oG1Z3QeBGGY",
        "outputId": "a5bf3072-2c96-45da-c7f9-2100db584277"
      },
      "execution_count": null,
      "outputs": [
        {
          "name": "stdout",
          "text": "Review tf.Tensor(b'it is little bit but the sound makes up for it', shape=(), dtype=string)\n========================================================================================================================\nLabel tf.Tensor(1, shape=(), dtype=int64)\n========================================================================================================================\nVectorized review\n tf.Tensor(\n[  3   7 121 240  13   2  26 292  46   6   3   0   0   0   0   0   0   0\n   0   0   0   0   0   0   0   0   0   0   0   0   0   0   0   0   0   0\n   0   0   0   0   0   0   0   0   0   0   0   0   0   0], shape=(50,), dtype=int64)\n",
          "output_type": "stream"
        }
      ]
    },
    {
      "cell_type": "code",
      "source": [
        "def vectorize_text(text, label):\n",
        "    text = tf.expand_dims(text, -1)\n",
        "    return vectorize_layer(text), label"
      ],
      "metadata": {
        "execution": {
          "iopub.status.busy": "2023-02-26T14:18:43.928450Z",
          "iopub.execute_input": "2023-02-26T14:18:43.929152Z",
          "iopub.status.idle": "2023-02-26T14:18:43.934672Z",
          "shell.execute_reply.started": "2023-02-26T14:18:43.929100Z",
          "shell.execute_reply": "2023-02-26T14:18:43.933832Z"
        },
        "trusted": true,
        "id": "TwROXMtYBGGZ"
      },
      "execution_count": null,
      "outputs": []
    },
    {
      "cell_type": "code",
      "source": [
        "train_ds = raw_train_ds.map(vectorize_text)\n",
        "val_ds = raw_val_ds.map(vectorize_text)\n",
        "test_ds = raw_test_ds.map(vectorize_text)"
      ],
      "metadata": {
        "execution": {
          "iopub.status.busy": "2023-02-26T14:19:48.421243Z",
          "iopub.execute_input": "2023-02-26T14:19:48.421615Z",
          "iopub.status.idle": "2023-02-26T14:19:48.539749Z",
          "shell.execute_reply.started": "2023-02-26T14:19:48.421580Z",
          "shell.execute_reply": "2023-02-26T14:19:48.538867Z"
        },
        "trusted": true,
        "id": "T28XGumMBGGZ"
      },
      "execution_count": null,
      "outputs": []
    },
    {
      "cell_type": "code",
      "source": [
        "AUTOTUNE = tf.data.AUTOTUNE\n",
        "\n",
        "train_ds = train_ds.cache().prefetch(buffer_size=AUTOTUNE)\n",
        "val_ds = val_ds.cache().prefetch(buffer_size=AUTOTUNE)\n",
        "test_ds = test_ds.cache().prefetch(buffer_size=AUTOTUNE)"
      ],
      "metadata": {
        "execution": {
          "iopub.status.busy": "2023-02-26T14:22:49.336544Z",
          "iopub.execute_input": "2023-02-26T14:22:49.337194Z",
          "iopub.status.idle": "2023-02-26T14:22:49.344662Z",
          "shell.execute_reply.started": "2023-02-26T14:22:49.337158Z",
          "shell.execute_reply": "2023-02-26T14:22:49.343745Z"
        },
        "trusted": true,
        "id": "O9dWn78SBGGZ"
      },
      "execution_count": null,
      "outputs": []
    },
    {
      "cell_type": "code",
      "source": [
        "embedding_dim = 16\n",
        "model = tf.keras.Sequential([\n",
        "    tf.keras.layers.Embedding(vocab_size + 1, embedding_dim),\n",
        "    tf.keras.layers.Dropout(0.2),\n",
        "    tf.keras.layers.GlobalAveragePooling1D(),\n",
        "    tf.keras.layers.Dropout(0.2),\n",
        "    tf.keras.layers.Dense(len(class_names))\n",
        "])\n",
        "model.summary()"
      ],
      "metadata": {
        "execution": {
          "iopub.status.busy": "2023-02-26T14:26:18.301476Z",
          "iopub.execute_input": "2023-02-26T14:26:18.302228Z",
          "iopub.status.idle": "2023-02-26T14:26:18.369441Z",
          "shell.execute_reply.started": "2023-02-26T14:26:18.302183Z",
          "shell.execute_reply": "2023-02-26T14:26:18.366226Z"
        },
        "trusted": true,
        "id": "3m7u8I-tBGGZ",
        "outputId": "7fa54e11-6dc0-4098-8540-780cdb29ea96"
      },
      "execution_count": null,
      "outputs": [
        {
          "name": "stdout",
          "text": "Model: \"sequential_3\"\n_________________________________________________________________\n Layer (type)                Output Shape              Param #   \n=================================================================\n embedding_3 (Embedding)     (None, None, 16)          160016    \n                                                                 \n dropout_4 (Dropout)         (None, None, 16)          0         \n                                                                 \n global_average_pooling1d_2   (None, 16)               0         \n (GlobalAveragePooling1D)                                        \n                                                                 \n dropout_5 (Dropout)         (None, 16)                0         \n                                                                 \n dense_2 (Dense)             (None, 3)                 51        \n                                                                 \n=================================================================\nTotal params: 160,067\nTrainable params: 160,067\nNon-trainable params: 0\n_________________________________________________________________\n",
          "output_type": "stream"
        }
      ]
    },
    {
      "cell_type": "code",
      "source": [
        "model.compile(\n",
        "    loss=tf.keras.losses.SparseCategoricalCrossentropy(from_logits=True),\n",
        "    optimizer='adam',\n",
        "    metrics=['accuracy']\n",
        ")"
      ],
      "metadata": {
        "execution": {
          "iopub.status.busy": "2023-02-26T14:28:13.768152Z",
          "iopub.execute_input": "2023-02-26T14:28:13.768568Z",
          "iopub.status.idle": "2023-02-26T14:28:13.788136Z",
          "shell.execute_reply.started": "2023-02-26T14:28:13.768531Z",
          "shell.execute_reply": "2023-02-26T14:28:13.787081Z"
        },
        "trusted": true,
        "id": "FfOjnOcHBGGZ"
      },
      "execution_count": null,
      "outputs": []
    },
    {
      "cell_type": "code",
      "source": [
        "epochs = 50\n",
        "history = model.fit(\n",
        "    train_ds,\n",
        "    validation_data=val_ds,\n",
        "    epochs=epochs\n",
        ")"
      ],
      "metadata": {
        "execution": {
          "iopub.status.busy": "2023-02-26T14:29:09.506892Z",
          "iopub.execute_input": "2023-02-26T14:29:09.507543Z",
          "iopub.status.idle": "2023-02-26T14:30:52.361172Z",
          "shell.execute_reply.started": "2023-02-26T14:29:09.507506Z",
          "shell.execute_reply": "2023-02-26T14:30:52.359879Z"
        },
        "trusted": true,
        "id": "SYL6wgYxBGGZ",
        "outputId": "6a13a3f2-788c-4e13-e293-e7f88a202341"
      },
      "execution_count": null,
      "outputs": [
        {
          "name": "stdout",
          "text": "Epoch 1/50\n434/434 [==============================] - 3s 5ms/step - loss: 0.9171 - accuracy: 0.5499 - val_loss: 0.8434 - val_accuracy: 0.5784\nEpoch 2/50\n434/434 [==============================] - 2s 4ms/step - loss: 0.8032 - accuracy: 0.6314 - val_loss: 0.7501 - val_accuracy: 0.7042\nEpoch 3/50\n434/434 [==============================] - 2s 4ms/step - loss: 0.7193 - accuracy: 0.7045 - val_loss: 0.6706 - val_accuracy: 0.7561\nEpoch 4/50\n434/434 [==============================] - 2s 4ms/step - loss: 0.6540 - accuracy: 0.7406 - val_loss: 0.6165 - val_accuracy: 0.7832\nEpoch 5/50\n434/434 [==============================] - 2s 4ms/step - loss: 0.6065 - accuracy: 0.7662 - val_loss: 0.5786 - val_accuracy: 0.7953\nEpoch 6/50\n434/434 [==============================] - 2s 4ms/step - loss: 0.5696 - accuracy: 0.7847 - val_loss: 0.5490 - val_accuracy: 0.8010\nEpoch 7/50\n434/434 [==============================] - 2s 4ms/step - loss: 0.5354 - accuracy: 0.7982 - val_loss: 0.5247 - val_accuracy: 0.8097\nEpoch 8/50\n434/434 [==============================] - 2s 4ms/step - loss: 0.5051 - accuracy: 0.8131 - val_loss: 0.5049 - val_accuracy: 0.8160\nEpoch 9/50\n434/434 [==============================] - 2s 4ms/step - loss: 0.4794 - accuracy: 0.8223 - val_loss: 0.4879 - val_accuracy: 0.8212\nEpoch 10/50\n434/434 [==============================] - 2s 4ms/step - loss: 0.4552 - accuracy: 0.8342 - val_loss: 0.4732 - val_accuracy: 0.8270\nEpoch 11/50\n434/434 [==============================] - 2s 4ms/step - loss: 0.4347 - accuracy: 0.8426 - val_loss: 0.4607 - val_accuracy: 0.8253\nEpoch 12/50\n434/434 [==============================] - 2s 4ms/step - loss: 0.4127 - accuracy: 0.8525 - val_loss: 0.4496 - val_accuracy: 0.8287\nEpoch 13/50\n434/434 [==============================] - 2s 4ms/step - loss: 0.3978 - accuracy: 0.8592 - val_loss: 0.4402 - val_accuracy: 0.8322\nEpoch 14/50\n434/434 [==============================] - 2s 4ms/step - loss: 0.3799 - accuracy: 0.8670 - val_loss: 0.4326 - val_accuracy: 0.8345\nEpoch 15/50\n434/434 [==============================] - 2s 4ms/step - loss: 0.3640 - accuracy: 0.8751 - val_loss: 0.4258 - val_accuracy: 0.8356\nEpoch 16/50\n434/434 [==============================] - 2s 4ms/step - loss: 0.3492 - accuracy: 0.8793 - val_loss: 0.4207 - val_accuracy: 0.8351\nEpoch 17/50\n434/434 [==============================] - 2s 4ms/step - loss: 0.3369 - accuracy: 0.8859 - val_loss: 0.4158 - val_accuracy: 0.8397\nEpoch 18/50\n434/434 [==============================] - 2s 4ms/step - loss: 0.3237 - accuracy: 0.8909 - val_loss: 0.4126 - val_accuracy: 0.8414\nEpoch 19/50\n434/434 [==============================] - 2s 4ms/step - loss: 0.3128 - accuracy: 0.8942 - val_loss: 0.4097 - val_accuracy: 0.8478\nEpoch 20/50\n434/434 [==============================] - 2s 3ms/step - loss: 0.3011 - accuracy: 0.9004 - val_loss: 0.4074 - val_accuracy: 0.8466\nEpoch 21/50\n434/434 [==============================] - 2s 4ms/step - loss: 0.2918 - accuracy: 0.9039 - val_loss: 0.4068 - val_accuracy: 0.8518\nEpoch 22/50\n434/434 [==============================] - 1s 3ms/step - loss: 0.2822 - accuracy: 0.9078 - val_loss: 0.4045 - val_accuracy: 0.8506\nEpoch 23/50\n434/434 [==============================] - 2s 4ms/step - loss: 0.2724 - accuracy: 0.9121 - val_loss: 0.4052 - val_accuracy: 0.8495\nEpoch 24/50\n434/434 [==============================] - 1s 3ms/step - loss: 0.2677 - accuracy: 0.9123 - val_loss: 0.4051 - val_accuracy: 0.8501\nEpoch 25/50\n434/434 [==============================] - 1s 3ms/step - loss: 0.2555 - accuracy: 0.9167 - val_loss: 0.4037 - val_accuracy: 0.8529\nEpoch 26/50\n434/434 [==============================] - 1s 3ms/step - loss: 0.2484 - accuracy: 0.9188 - val_loss: 0.4047 - val_accuracy: 0.8535\nEpoch 27/50\n434/434 [==============================] - 1s 3ms/step - loss: 0.2431 - accuracy: 0.9205 - val_loss: 0.4068 - val_accuracy: 0.8512\nEpoch 28/50\n434/434 [==============================] - 2s 4ms/step - loss: 0.2372 - accuracy: 0.9239 - val_loss: 0.4086 - val_accuracy: 0.8541\nEpoch 29/50\n434/434 [==============================] - 1s 3ms/step - loss: 0.2312 - accuracy: 0.9269 - val_loss: 0.4090 - val_accuracy: 0.8541\nEpoch 30/50\n434/434 [==============================] - 1s 3ms/step - loss: 0.2252 - accuracy: 0.9280 - val_loss: 0.4110 - val_accuracy: 0.8558\nEpoch 31/50\n434/434 [==============================] - 1s 3ms/step - loss: 0.2220 - accuracy: 0.9301 - val_loss: 0.4143 - val_accuracy: 0.8541\nEpoch 32/50\n434/434 [==============================] - 2s 4ms/step - loss: 0.2168 - accuracy: 0.9320 - val_loss: 0.4153 - val_accuracy: 0.8564\nEpoch 33/50\n434/434 [==============================] - 2s 4ms/step - loss: 0.2081 - accuracy: 0.9349 - val_loss: 0.4191 - val_accuracy: 0.8552\nEpoch 34/50\n434/434 [==============================] - 2s 3ms/step - loss: 0.2036 - accuracy: 0.9365 - val_loss: 0.4227 - val_accuracy: 0.8547\nEpoch 35/50\n434/434 [==============================] - 2s 3ms/step - loss: 0.1971 - accuracy: 0.9374 - val_loss: 0.4254 - val_accuracy: 0.8558\nEpoch 36/50\n434/434 [==============================] - 2s 4ms/step - loss: 0.1935 - accuracy: 0.9392 - val_loss: 0.4288 - val_accuracy: 0.8581\nEpoch 37/50\n434/434 [==============================] - 1s 3ms/step - loss: 0.1918 - accuracy: 0.9419 - val_loss: 0.4320 - val_accuracy: 0.8581\nEpoch 38/50\n434/434 [==============================] - 1s 3ms/step - loss: 0.1856 - accuracy: 0.9410 - val_loss: 0.4358 - val_accuracy: 0.8593\nEpoch 39/50\n434/434 [==============================] - 1s 3ms/step - loss: 0.1814 - accuracy: 0.9425 - val_loss: 0.4381 - val_accuracy: 0.8616\nEpoch 40/50\n434/434 [==============================] - 2s 3ms/step - loss: 0.1810 - accuracy: 0.9418 - val_loss: 0.4439 - val_accuracy: 0.8576\nEpoch 41/50\n434/434 [==============================] - 2s 4ms/step - loss: 0.1753 - accuracy: 0.9455 - val_loss: 0.4483 - val_accuracy: 0.8604\nEpoch 42/50\n434/434 [==============================] - 2s 4ms/step - loss: 0.1739 - accuracy: 0.9456 - val_loss: 0.4515 - val_accuracy: 0.8639\nEpoch 43/50\n434/434 [==============================] - 2s 4ms/step - loss: 0.1671 - accuracy: 0.9486 - val_loss: 0.4564 - val_accuracy: 0.8627\nEpoch 44/50\n434/434 [==============================] - 2s 4ms/step - loss: 0.1676 - accuracy: 0.9476 - val_loss: 0.4596 - val_accuracy: 0.8599\nEpoch 45/50\n434/434 [==============================] - 2s 4ms/step - loss: 0.1610 - accuracy: 0.9489 - val_loss: 0.4635 - val_accuracy: 0.8599\nEpoch 46/50\n434/434 [==============================] - 2s 4ms/step - loss: 0.1648 - accuracy: 0.9488 - val_loss: 0.4675 - val_accuracy: 0.8587\nEpoch 47/50\n434/434 [==============================] - 2s 4ms/step - loss: 0.1578 - accuracy: 0.9512 - val_loss: 0.4732 - val_accuracy: 0.8587\nEpoch 48/50\n434/434 [==============================] - 2s 4ms/step - loss: 0.1572 - accuracy: 0.9510 - val_loss: 0.4750 - val_accuracy: 0.8593\nEpoch 49/50\n434/434 [==============================] - 2s 4ms/step - loss: 0.1532 - accuracy: 0.9531 - val_loss: 0.4789 - val_accuracy: 0.8633\nEpoch 50/50\n434/434 [==============================] - 2s 4ms/step - loss: 0.1509 - accuracy: 0.9536 - val_loss: 0.4838 - val_accuracy: 0.8604\n",
          "output_type": "stream"
        }
      ]
    },
    {
      "cell_type": "markdown",
      "source": [
        "# Visualize training result"
      ],
      "metadata": {
        "id": "Blxu8lfuBGGZ"
      }
    },
    {
      "cell_type": "code",
      "source": [
        "history_df = pd.DataFrame(history.history)\n",
        "history_df.head()"
      ],
      "metadata": {
        "execution": {
          "iopub.status.busy": "2023-02-26T14:32:02.486632Z",
          "iopub.execute_input": "2023-02-26T14:32:02.487292Z",
          "iopub.status.idle": "2023-02-26T14:32:02.502255Z",
          "shell.execute_reply.started": "2023-02-26T14:32:02.487252Z",
          "shell.execute_reply": "2023-02-26T14:32:02.501295Z"
        },
        "trusted": true,
        "id": "bBRX9MQPBGGZ",
        "outputId": "d5a52597-705a-4d4c-df28-33c3bd775759"
      },
      "execution_count": null,
      "outputs": [
        {
          "execution_count": 210,
          "output_type": "execute_result",
          "data": {
            "text/plain": "       loss  accuracy  val_loss  val_accuracy\n0  0.917103  0.549885  0.843361      0.578431\n1  0.803201  0.631416  0.750086      0.704152\n2  0.719253  0.704513  0.670610      0.756055\n3  0.653969  0.740629  0.616548      0.783160\n4  0.606465  0.766220  0.578610      0.795271",
            "text/html": "<div>\n<style scoped>\n    .dataframe tbody tr th:only-of-type {\n        vertical-align: middle;\n    }\n\n    .dataframe tbody tr th {\n        vertical-align: top;\n    }\n\n    .dataframe thead th {\n        text-align: right;\n    }\n</style>\n<table border=\"1\" class=\"dataframe\">\n  <thead>\n    <tr style=\"text-align: right;\">\n      <th></th>\n      <th>loss</th>\n      <th>accuracy</th>\n      <th>val_loss</th>\n      <th>val_accuracy</th>\n    </tr>\n  </thead>\n  <tbody>\n    <tr>\n      <th>0</th>\n      <td>0.917103</td>\n      <td>0.549885</td>\n      <td>0.843361</td>\n      <td>0.578431</td>\n    </tr>\n    <tr>\n      <th>1</th>\n      <td>0.803201</td>\n      <td>0.631416</td>\n      <td>0.750086</td>\n      <td>0.704152</td>\n    </tr>\n    <tr>\n      <th>2</th>\n      <td>0.719253</td>\n      <td>0.704513</td>\n      <td>0.670610</td>\n      <td>0.756055</td>\n    </tr>\n    <tr>\n      <th>3</th>\n      <td>0.653969</td>\n      <td>0.740629</td>\n      <td>0.616548</td>\n      <td>0.783160</td>\n    </tr>\n    <tr>\n      <th>4</th>\n      <td>0.606465</td>\n      <td>0.766220</td>\n      <td>0.578610</td>\n      <td>0.795271</td>\n    </tr>\n  </tbody>\n</table>\n</div>"
          },
          "metadata": {}
        }
      ]
    },
    {
      "cell_type": "code",
      "source": [
        "history_df.loc[:, ['loss', 'val_loss']].plot()\n",
        "history_df.loc[:, ['accuracy', 'val_accuracy']].plot()"
      ],
      "metadata": {
        "execution": {
          "iopub.status.busy": "2023-02-26T14:34:13.453541Z",
          "iopub.execute_input": "2023-02-26T14:34:13.453979Z",
          "iopub.status.idle": "2023-02-26T14:34:13.920570Z",
          "shell.execute_reply.started": "2023-02-26T14:34:13.453940Z",
          "shell.execute_reply": "2023-02-26T14:34:13.918889Z"
        },
        "trusted": true,
        "id": "NMtgutrYBGGa",
        "outputId": "63786f0e-e016-4127-826b-a3845702ceea"
      },
      "execution_count": null,
      "outputs": [
        {
          "execution_count": 215,
          "output_type": "execute_result",
          "data": {
            "text/plain": "<AxesSubplot:>"
          },
          "metadata": {}
        },
        {
          "output_type": "display_data",
          "data": {
            "text/plain": "<Figure size 640x480 with 1 Axes>",
            "image/png": "[encoded data removed]"
          },
          "metadata": {}
        },
        {
          "output_type": "display_data",
          "data": {
            "text/plain": "<Figure size 640x480 with 1 Axes>",
            "image/png": "[encoded data removed]"
          },
          "metadata": {}
        }
      ]
    },
    {
      "cell_type": "markdown",
      "source": [
        "# Evaluate the model"
      ],
      "metadata": {
        "id": "n_1bII0NBGGa"
      }
    },
    {
      "cell_type": "code",
      "source": [
        "loss, accuracy = model.evaluate(test_ds)\n",
        "print(\"Loss: \", loss)\n",
        "print(\"Accuracy: \", accuracy)"
      ],
      "metadata": {
        "execution": {
          "iopub.status.busy": "2023-02-26T14:36:34.291906Z",
          "iopub.execute_input": "2023-02-26T14:36:34.292641Z",
          "iopub.status.idle": "2023-02-26T14:36:34.392267Z",
          "shell.execute_reply.started": "2023-02-26T14:36:34.292587Z",
          "shell.execute_reply": "2023-02-26T14:36:34.391052Z"
        },
        "trusted": true,
        "id": "jzOhoGPxBGGa",
        "outputId": "a11a0270-9e22-4b4f-ff00-ca6ee8165bf5"
      },
      "execution_count": null,
      "outputs": [
        {
          "name": "stdout",
          "text": "55/55 [==============================] - 0s 2ms/step - loss: 0.4961 - accuracy: 0.8743\nLoss:  0.4960750341415405\nAccuracy:  0.8742791414260864\n",
          "output_type": "stream"
        }
      ]
    },
    {
      "cell_type": "markdown",
      "source": [
        "# Predict New Data"
      ],
      "metadata": {
        "id": "NKkZhTAXBGGa"
      }
    },
    {
      "cell_type": "code",
      "source": [
        "export_model = tf.keras.Sequential([\n",
        "    vectorize_layer,\n",
        "    model,\n",
        "    tf.keras.layers.Activation(\"softmax\")\n",
        "])\n",
        "model.summary()\n",
        "model.compile(\n",
        "    loss=tf.keras.losses.SparseCategoricalCrossentropy(from_logits=False),\n",
        "    optimizer='adam',\n",
        "    metrics=['accuracy']\n",
        ")"
      ],
      "metadata": {
        "execution": {
          "iopub.status.busy": "2023-02-26T14:38:35.580326Z",
          "iopub.execute_input": "2023-02-26T14:38:35.580794Z",
          "iopub.status.idle": "2023-02-26T14:38:35.679662Z",
          "shell.execute_reply.started": "2023-02-26T14:38:35.580748Z",
          "shell.execute_reply": "2023-02-26T14:38:35.678458Z"
        },
        "trusted": true,
        "id": "-hgVCwuPBGGa",
        "outputId": "b1ff1010-95e0-42e1-e0da-17e1ea66fce5"
      },
      "execution_count": null,
      "outputs": [
        {
          "name": "stdout",
          "text": "Model: \"sequential_3\"\n_________________________________________________________________\n Layer (type)                Output Shape              Param #   \n=================================================================\n embedding_3 (Embedding)     (None, None, 16)          160016    \n                                                                 \n dropout_4 (Dropout)         (None, None, 16)          0         \n                                                                 \n global_average_pooling1d_2   (None, 16)               0         \n (GlobalAveragePooling1D)                                        \n                                                                 \n dropout_5 (Dropout)         (None, 16)                0         \n                                                                 \n dense_2 (Dense)             (None, 3)                 51        \n                                                                 \n=================================================================\nTotal params: 160,067\nTrainable params: 160,067\nNon-trainable params: 0\n_________________________________________________________________\n",
          "output_type": "stream"
        }
      ]
    },
    {
      "cell_type": "code",
      "source": [
        "test_text = raw_test_ds.map(lambda text, label: text)\n",
        "test_label = export_model.predict(test_text)"
      ],
      "metadata": {
        "execution": {
          "iopub.status.busy": "2023-02-26T14:39:54.335648Z",
          "iopub.execute_input": "2023-02-26T14:39:54.336768Z",
          "iopub.status.idle": "2023-02-26T14:39:54.488011Z",
          "shell.execute_reply.started": "2023-02-26T14:39:54.336721Z",
          "shell.execute_reply": "2023-02-26T14:39:54.486935Z"
        },
        "trusted": true,
        "id": "THsacPgRBGGa",
        "outputId": "15244785-880b-4b5b-ac98-a37a0836ee82"
      },
      "execution_count": null,
      "outputs": [
        {
          "name": "stdout",
          "text": "55/55 [==============================] - 0s 2ms/step\n",
          "output_type": "stream"
        }
      ]
    },
    {
      "cell_type": "code",
      "source": [
        "new_reviews = [\n",
        "    \"not recommended\",\n",
        "    \"Great\"\n",
        "]\n",
        "labels = export_model.predict(new_reviews)\n",
        "labels = [class_names[label.argmax()] for label in labels]\n",
        "print(labels)"
      ],
      "metadata": {
        "execution": {
          "iopub.status.busy": "2023-02-26T14:43:40.262579Z",
          "iopub.execute_input": "2023-02-26T14:43:40.263507Z",
          "iopub.status.idle": "2023-02-26T14:43:40.345600Z",
          "shell.execute_reply.started": "2023-02-26T14:43:40.263462Z",
          "shell.execute_reply": "2023-02-26T14:43:40.344746Z"
        },
        "trusted": true,
        "id": "UnaqrArdBGGa",
        "outputId": "99dcc5fe-ed7d-44e1-89ab-d9cfd732eddf"
      },
      "execution_count": null,
      "outputs": [
        {
          "name": "stdout",
          "text": "1/1 [==============================] - 0s 37ms/step\n['neutral', 'positive']\n",
          "output_type": "stream"
        }
      ]
    }
  ]
}